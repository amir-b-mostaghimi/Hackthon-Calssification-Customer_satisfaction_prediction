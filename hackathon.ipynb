{
  "nbformat": 4,
  "nbformat_minor": 0,
  "metadata": {
    "colab": {
      "provenance": [],
      "collapsed_sections": [
        "UuLfwE4bwWiW",
        "ov1fI0SbpSO9"
      ],
      "include_colab_link": true
    },
    "kernelspec": {
      "name": "python3",
      "display_name": "Python 3"
    },
    "language_info": {
      "name": "python"
    }
  },
  "cells": [
    {
      "cell_type": "markdown",
      "metadata": {
        "id": "view-in-github",
        "colab_type": "text"
      },
      "source": [
        "<a href=\"https://colab.research.google.com/github/amir-b-mostaghimi/Hackthon-Shinkansen-Travel-Experience-/blob/master/hackathon.ipynb\" target=\"_parent\"><img src=\"https://colab.research.google.com/assets/colab-badge.svg\" alt=\"Open In Colab\"/></a>"
      ]
    },
    {
      "cell_type": "code",
      "source": [
        "import numpy as np                              \n",
        "import pandas as pd\n",
        "\n",
        "# Basic library for data visualization\n",
        "import matplotlib.pyplot as plt     \n",
        "\n",
        "# Slightly advanced library for data visualization            \n",
        "import seaborn as sns                          \n",
        "\n",
        "# Featauretools for feature engineering\n",
        "\n",
        "\n",
        "from sklearn.model_selection import train_test_split\n",
        "from sklearn.impute import SimpleImputer\n",
        "\n",
        "# Importing gradient boosting regressor, to make prediction\n",
        "from sklearn.metrics import r2_score\n",
        "from sklearn.linear_model import LinearRegression\n",
        "from sklearn.ensemble import RandomForestRegressor\n",
        "from sklearn.tree import DecisionTreeRegressor\n",
        "\n",
        "\n",
        "# Used to ignore the warning given as output of the code\n",
        "import warnings\n",
        "warnings.filterwarnings(\"ignore\")\n",
        "\n",
        "\n",
        "%load_ext autoreload\n",
        "%autoreload 2"
      ],
      "metadata": {
        "id": "qHfQQQK3sc7d",
        "colab": {
          "base_uri": "https://localhost:8080/"
        },
        "outputId": "0a39926f-c002-465f-ad49-44cf4ee41b9d"
      },
      "execution_count": null,
      "outputs": [
        {
          "output_type": "stream",
          "name": "stdout",
          "text": [
            "The autoreload extension is already loaded. To reload it, use:\n",
            "  %reload_ext autoreload\n"
          ]
        }
      ]
    },
    {
      "cell_type": "code",
      "source": [
        "# Read the data\n",
        "df_sur_train = pd.read_csv(\"Surveydata_train.csv\",  encoding='utf-8')\n",
        "df_trav_train = pd.read_csv(\"Traveldata_train.csv\", encoding='utf-8')\n",
        "data_f_train = pd.concat([df_trav_train, df_sur_train ], axis=1, join='inner')\n",
        "\n",
        "data_f_train=data_f_train.drop('ID',1)\n",
        "#data_f_train=data_f_train.drop('Arrival_Delay_in_Mins',1)\n",
        "#___________________________________________________________________________________________________________________________________________________________________\n",
        "\n",
        "df_sur_test = pd.read_csv(\"Surveydata_test.csv\",  encoding='utf-8')\n",
        "df_trav_test = pd.read_csv(\"Traveldata_test.csv\", encoding='utf-8')\n",
        "data_f_test = pd.concat([df_trav_test, df_sur_test ], axis=1, join='inner')\n",
        "\n",
        "data_f_test=data_f_test.drop('ID',1)\n",
        "#data_f_test=data_f_test.drop('Arrival_Delay_in_Mins',1)\n",
        "\n",
        "print(data_f_train.isnull().sum().sum())"
      ],
      "metadata": {
        "id": "oo0gIwjTtGam",
        "colab": {
          "base_uri": "https://localhost:8080/"
        },
        "outputId": "af683303-6841-4557-9e49-2f09e238a2d6"
      },
      "execution_count": null,
      "outputs": [
        {
          "output_type": "stream",
          "name": "stdout",
          "text": [
            "44597\n"
          ]
        }
      ]
    },
    {
      "cell_type": "code",
      "source": [
        "#Outlayer detection\n",
        "\n",
        "fig, ax =plt.subplots(1,4, figsize=(16,8))\n",
        "sns.boxplot(df_imputed_train['Age'], ax=ax[0])\n",
        "sns.boxplot(df_imputed_train['Departure_Delay_in_Mins'], ax=ax[1])\n",
        "sns.boxplot(df_imputed_train['Arrival_Delay_in_Mins'], ax=ax[2])\n",
        "sns.boxplot(df_imputed_train['Travel_Distance'], ax=ax[3])\n",
        "\n",
        "fig.show()\n",
        "\n",
        "#___________________________________________________________________________________________________________________________________________________________________\n",
        "\n",
        "\n",
        "fig, ax =plt.subplots(1,4, figsize=(16,8))\n",
        "sns.boxplot(df_imputed_test['Age'], ax=ax[0])\n",
        "sns.boxplot(df_imputed_test['Departure_Delay_in_Mins'], ax=ax[1])\n",
        "sns.boxplot(df_imputed_test['Arrival_Delay_in_Mins'], ax=ax[2])\n",
        "sns.boxplot(df_imputed_test['Travel_Distance'], ax=ax[3])\n",
        "\n",
        "#fig.show()"
      ],
      "metadata": {
        "id": "aIWwJGJ5Dh9x"
      },
      "execution_count": null,
      "outputs": []
    },
    {
      "cell_type": "markdown",
      "source": [
        "###Encoding"
      ],
      "metadata": {
        "id": "LFD_MXd3uImk"
      }
    },
    {
      "cell_type": "code",
      "source": [
        "# Label encoding\n",
        "from sklearn.preprocessing import LabelEncoder\n",
        "\n",
        "le = LabelEncoder()\n",
        "\n",
        "for cat_var in ['Gender','Customer_Type','Type_Travel','Travel_Class','Seat_Comfort','Arrival_Time_Convenient','Catering','Platform_Location','Onboard_Wifi_Service','Onboard_Entertainment','Online_Support','Ease_of_Online_Booking','Onboard_Service','Legroom',\n",
        "                                                         'Baggage_Handling','CheckIn_Service','Cleanliness','Online_Boarding','Seat_Class']:\n",
        "    data_f_train[cat_var] = le.fit_transform(data_f_train[cat_var])  \n",
        "label_encoded_train= data_f_train\n",
        "label_encoded_train\n",
        "\n",
        "#___________________________________________________________________________________________________________________________________________________________________\n",
        "\n",
        "\n",
        "for cat_var in ['Gender','Customer_Type','Type_Travel','Travel_Class','Seat_Comfort','Arrival_Time_Convenient','Catering','Platform_Location','Onboard_Wifi_Service','Onboard_Entertainment','Online_Support','Ease_of_Online_Booking','Onboard_Service','Legroom',\n",
        "                                                         'Baggage_Handling','CheckIn_Service','Cleanliness','Online_Boarding','Seat_Class']:\n",
        "    data_f_test[cat_var] = le.fit_transform(data_f_test[cat_var])  \n",
        "label_encoded_test= data_f_test\n",
        "label_encoded_test\n",
        "\n"
      ],
      "metadata": {
        "id": "r6TK9AmiRvtG",
        "colab": {
          "base_uri": "https://localhost:8080/",
          "height": 488
        },
        "outputId": "89b00878-a2be-45dd-835c-483f23cb7c61"
      },
      "execution_count": null,
      "outputs": [
        {
          "output_type": "execute_result",
          "data": {
            "text/plain": [
              "       Gender  Customer_Type   Age  Type_Travel  Travel_Class  \\\n",
              "0           0              2  36.0            0             0   \n",
              "1           0              0  21.0            0             0   \n",
              "2           1              1  60.0            0             0   \n",
              "3           0              1  29.0            1             1   \n",
              "4           1              0  18.0            0             0   \n",
              "...       ...            ...   ...          ...           ...   \n",
              "35597       1              1   8.0            1             1   \n",
              "35598       0              1  53.0            0             0   \n",
              "35599       1              0  22.0            0             1   \n",
              "35600       0              1  67.0            1             1   \n",
              "35601       1              2  20.0            1             1   \n",
              "\n",
              "       Travel_Distance  Departure_Delay_in_Mins  Arrival_Delay_in_Mins  \\\n",
              "0                  532                      0.0                    0.0   \n",
              "1                 1425                      9.0                   28.0   \n",
              "2                 2832                      0.0                    0.0   \n",
              "3                 1352                      0.0                    0.0   \n",
              "4                 1610                     17.0                    0.0   \n",
              "...                ...                      ...                    ...   \n",
              "35597             1334                      0.0                    0.0   \n",
              "35598             1772                      0.0                    0.0   \n",
              "35599             1180                      0.0                    0.0   \n",
              "35600              420                     23.0                   16.0   \n",
              "35601             1680                      0.0                    0.0   \n",
              "\n",
              "       Seat_Comfort  Seat_Class  ...  Onboard_Wifi_Service  \\\n",
              "0                 0           0  ...                     4   \n",
              "1                 2           1  ...                     0   \n",
              "2                 1           1  ...                     1   \n",
              "3                 0           0  ...                     5   \n",
              "4                 1           1  ...                     1   \n",
              "...             ...         ...  ...                   ...   \n",
              "35597             4           0  ...                     0   \n",
              "35598             4           1  ...                     0   \n",
              "35599             3           0  ...                     4   \n",
              "35600             1           1  ...                     0   \n",
              "35601             3           1  ...                     5   \n",
              "\n",
              "       Onboard_Entertainment  Online_Support  Ease_of_Online_Booking  \\\n",
              "0                          1               2                       1   \n",
              "1                          5               0                       0   \n",
              "2                          1               1                       4   \n",
              "3                          0               1                       5   \n",
              "4                          1               1                       1   \n",
              "...                      ...             ...                     ...   \n",
              "35597                      4               0                       0   \n",
              "35598                      1               1                       3   \n",
              "35599                      3               4                       4   \n",
              "35600                      1               2                       1   \n",
              "35601                      3               4                       5   \n",
              "\n",
              "       Onboard_Service  Legroom  Baggage_Handling  CheckIn_Service  \\\n",
              "0                    1        1                 1                2   \n",
              "1                    1        0                 2                0   \n",
              "2                    3        4                 3                2   \n",
              "3                    0        4                 1                1   \n",
              "4                    5        0                 1                1   \n",
              "...                ...      ...               ...              ...   \n",
              "35597                2        1                 2                0   \n",
              "35598                2        3                 2                0   \n",
              "35599                4        0                 4                4   \n",
              "35600                1        1                 1                0   \n",
              "35601                0        3                 2                3   \n",
              "\n",
              "       Cleanliness  Online_Boarding  \n",
              "0                1                5  \n",
              "1                1                0  \n",
              "2                3                1  \n",
              "3                1                5  \n",
              "4                1                1  \n",
              "...            ...              ...  \n",
              "35597            2                0  \n",
              "35598            2                3  \n",
              "35599            1                4  \n",
              "35600            1                3  \n",
              "35601            2                5  \n",
              "\n",
              "[35602 rows x 23 columns]"
            ],
            "text/html": [
              "\n",
              "  <div id=\"df-f05c6f36-ed8c-43c9-ae2c-e6f5004f0a01\">\n",
              "    <div class=\"colab-df-container\">\n",
              "      <div>\n",
              "<style scoped>\n",
              "    .dataframe tbody tr th:only-of-type {\n",
              "        vertical-align: middle;\n",
              "    }\n",
              "\n",
              "    .dataframe tbody tr th {\n",
              "        vertical-align: top;\n",
              "    }\n",
              "\n",
              "    .dataframe thead th {\n",
              "        text-align: right;\n",
              "    }\n",
              "</style>\n",
              "<table border=\"1\" class=\"dataframe\">\n",
              "  <thead>\n",
              "    <tr style=\"text-align: right;\">\n",
              "      <th></th>\n",
              "      <th>Gender</th>\n",
              "      <th>Customer_Type</th>\n",
              "      <th>Age</th>\n",
              "      <th>Type_Travel</th>\n",
              "      <th>Travel_Class</th>\n",
              "      <th>Travel_Distance</th>\n",
              "      <th>Departure_Delay_in_Mins</th>\n",
              "      <th>Arrival_Delay_in_Mins</th>\n",
              "      <th>Seat_Comfort</th>\n",
              "      <th>Seat_Class</th>\n",
              "      <th>...</th>\n",
              "      <th>Onboard_Wifi_Service</th>\n",
              "      <th>Onboard_Entertainment</th>\n",
              "      <th>Online_Support</th>\n",
              "      <th>Ease_of_Online_Booking</th>\n",
              "      <th>Onboard_Service</th>\n",
              "      <th>Legroom</th>\n",
              "      <th>Baggage_Handling</th>\n",
              "      <th>CheckIn_Service</th>\n",
              "      <th>Cleanliness</th>\n",
              "      <th>Online_Boarding</th>\n",
              "    </tr>\n",
              "  </thead>\n",
              "  <tbody>\n",
              "    <tr>\n",
              "      <th>0</th>\n",
              "      <td>0</td>\n",
              "      <td>2</td>\n",
              "      <td>36.0</td>\n",
              "      <td>0</td>\n",
              "      <td>0</td>\n",
              "      <td>532</td>\n",
              "      <td>0.0</td>\n",
              "      <td>0.0</td>\n",
              "      <td>0</td>\n",
              "      <td>0</td>\n",
              "      <td>...</td>\n",
              "      <td>4</td>\n",
              "      <td>1</td>\n",
              "      <td>2</td>\n",
              "      <td>1</td>\n",
              "      <td>1</td>\n",
              "      <td>1</td>\n",
              "      <td>1</td>\n",
              "      <td>2</td>\n",
              "      <td>1</td>\n",
              "      <td>5</td>\n",
              "    </tr>\n",
              "    <tr>\n",
              "      <th>1</th>\n",
              "      <td>0</td>\n",
              "      <td>0</td>\n",
              "      <td>21.0</td>\n",
              "      <td>0</td>\n",
              "      <td>0</td>\n",
              "      <td>1425</td>\n",
              "      <td>9.0</td>\n",
              "      <td>28.0</td>\n",
              "      <td>2</td>\n",
              "      <td>1</td>\n",
              "      <td>...</td>\n",
              "      <td>0</td>\n",
              "      <td>5</td>\n",
              "      <td>0</td>\n",
              "      <td>0</td>\n",
              "      <td>1</td>\n",
              "      <td>0</td>\n",
              "      <td>2</td>\n",
              "      <td>0</td>\n",
              "      <td>1</td>\n",
              "      <td>0</td>\n",
              "    </tr>\n",
              "    <tr>\n",
              "      <th>2</th>\n",
              "      <td>1</td>\n",
              "      <td>1</td>\n",
              "      <td>60.0</td>\n",
              "      <td>0</td>\n",
              "      <td>0</td>\n",
              "      <td>2832</td>\n",
              "      <td>0.0</td>\n",
              "      <td>0.0</td>\n",
              "      <td>1</td>\n",
              "      <td>1</td>\n",
              "      <td>...</td>\n",
              "      <td>1</td>\n",
              "      <td>1</td>\n",
              "      <td>1</td>\n",
              "      <td>4</td>\n",
              "      <td>3</td>\n",
              "      <td>4</td>\n",
              "      <td>3</td>\n",
              "      <td>2</td>\n",
              "      <td>3</td>\n",
              "      <td>1</td>\n",
              "    </tr>\n",
              "    <tr>\n",
              "      <th>3</th>\n",
              "      <td>0</td>\n",
              "      <td>1</td>\n",
              "      <td>29.0</td>\n",
              "      <td>1</td>\n",
              "      <td>1</td>\n",
              "      <td>1352</td>\n",
              "      <td>0.0</td>\n",
              "      <td>0.0</td>\n",
              "      <td>0</td>\n",
              "      <td>0</td>\n",
              "      <td>...</td>\n",
              "      <td>5</td>\n",
              "      <td>0</td>\n",
              "      <td>1</td>\n",
              "      <td>5</td>\n",
              "      <td>0</td>\n",
              "      <td>4</td>\n",
              "      <td>1</td>\n",
              "      <td>1</td>\n",
              "      <td>1</td>\n",
              "      <td>5</td>\n",
              "    </tr>\n",
              "    <tr>\n",
              "      <th>4</th>\n",
              "      <td>1</td>\n",
              "      <td>0</td>\n",
              "      <td>18.0</td>\n",
              "      <td>0</td>\n",
              "      <td>0</td>\n",
              "      <td>1610</td>\n",
              "      <td>17.0</td>\n",
              "      <td>0.0</td>\n",
              "      <td>1</td>\n",
              "      <td>1</td>\n",
              "      <td>...</td>\n",
              "      <td>1</td>\n",
              "      <td>1</td>\n",
              "      <td>1</td>\n",
              "      <td>1</td>\n",
              "      <td>5</td>\n",
              "      <td>0</td>\n",
              "      <td>1</td>\n",
              "      <td>1</td>\n",
              "      <td>1</td>\n",
              "      <td>1</td>\n",
              "    </tr>\n",
              "    <tr>\n",
              "      <th>...</th>\n",
              "      <td>...</td>\n",
              "      <td>...</td>\n",
              "      <td>...</td>\n",
              "      <td>...</td>\n",
              "      <td>...</td>\n",
              "      <td>...</td>\n",
              "      <td>...</td>\n",
              "      <td>...</td>\n",
              "      <td>...</td>\n",
              "      <td>...</td>\n",
              "      <td>...</td>\n",
              "      <td>...</td>\n",
              "      <td>...</td>\n",
              "      <td>...</td>\n",
              "      <td>...</td>\n",
              "      <td>...</td>\n",
              "      <td>...</td>\n",
              "      <td>...</td>\n",
              "      <td>...</td>\n",
              "      <td>...</td>\n",
              "      <td>...</td>\n",
              "    </tr>\n",
              "    <tr>\n",
              "      <th>35597</th>\n",
              "      <td>1</td>\n",
              "      <td>1</td>\n",
              "      <td>8.0</td>\n",
              "      <td>1</td>\n",
              "      <td>1</td>\n",
              "      <td>1334</td>\n",
              "      <td>0.0</td>\n",
              "      <td>0.0</td>\n",
              "      <td>4</td>\n",
              "      <td>0</td>\n",
              "      <td>...</td>\n",
              "      <td>0</td>\n",
              "      <td>4</td>\n",
              "      <td>0</td>\n",
              "      <td>0</td>\n",
              "      <td>2</td>\n",
              "      <td>1</td>\n",
              "      <td>2</td>\n",
              "      <td>0</td>\n",
              "      <td>2</td>\n",
              "      <td>0</td>\n",
              "    </tr>\n",
              "    <tr>\n",
              "      <th>35598</th>\n",
              "      <td>0</td>\n",
              "      <td>1</td>\n",
              "      <td>53.0</td>\n",
              "      <td>0</td>\n",
              "      <td>0</td>\n",
              "      <td>1772</td>\n",
              "      <td>0.0</td>\n",
              "      <td>0.0</td>\n",
              "      <td>4</td>\n",
              "      <td>1</td>\n",
              "      <td>...</td>\n",
              "      <td>0</td>\n",
              "      <td>1</td>\n",
              "      <td>1</td>\n",
              "      <td>3</td>\n",
              "      <td>2</td>\n",
              "      <td>3</td>\n",
              "      <td>2</td>\n",
              "      <td>0</td>\n",
              "      <td>2</td>\n",
              "      <td>3</td>\n",
              "    </tr>\n",
              "    <tr>\n",
              "      <th>35599</th>\n",
              "      <td>1</td>\n",
              "      <td>0</td>\n",
              "      <td>22.0</td>\n",
              "      <td>0</td>\n",
              "      <td>1</td>\n",
              "      <td>1180</td>\n",
              "      <td>0.0</td>\n",
              "      <td>0.0</td>\n",
              "      <td>3</td>\n",
              "      <td>0</td>\n",
              "      <td>...</td>\n",
              "      <td>4</td>\n",
              "      <td>3</td>\n",
              "      <td>4</td>\n",
              "      <td>4</td>\n",
              "      <td>4</td>\n",
              "      <td>0</td>\n",
              "      <td>4</td>\n",
              "      <td>4</td>\n",
              "      <td>1</td>\n",
              "      <td>4</td>\n",
              "    </tr>\n",
              "    <tr>\n",
              "      <th>35600</th>\n",
              "      <td>0</td>\n",
              "      <td>1</td>\n",
              "      <td>67.0</td>\n",
              "      <td>1</td>\n",
              "      <td>1</td>\n",
              "      <td>420</td>\n",
              "      <td>23.0</td>\n",
              "      <td>16.0</td>\n",
              "      <td>1</td>\n",
              "      <td>1</td>\n",
              "      <td>...</td>\n",
              "      <td>0</td>\n",
              "      <td>1</td>\n",
              "      <td>2</td>\n",
              "      <td>1</td>\n",
              "      <td>1</td>\n",
              "      <td>1</td>\n",
              "      <td>1</td>\n",
              "      <td>0</td>\n",
              "      <td>1</td>\n",
              "      <td>3</td>\n",
              "    </tr>\n",
              "    <tr>\n",
              "      <th>35601</th>\n",
              "      <td>1</td>\n",
              "      <td>2</td>\n",
              "      <td>20.0</td>\n",
              "      <td>1</td>\n",
              "      <td>1</td>\n",
              "      <td>1680</td>\n",
              "      <td>0.0</td>\n",
              "      <td>0.0</td>\n",
              "      <td>3</td>\n",
              "      <td>1</td>\n",
              "      <td>...</td>\n",
              "      <td>5</td>\n",
              "      <td>3</td>\n",
              "      <td>4</td>\n",
              "      <td>5</td>\n",
              "      <td>0</td>\n",
              "      <td>3</td>\n",
              "      <td>2</td>\n",
              "      <td>3</td>\n",
              "      <td>2</td>\n",
              "      <td>5</td>\n",
              "    </tr>\n",
              "  </tbody>\n",
              "</table>\n",
              "<p>35602 rows × 23 columns</p>\n",
              "</div>\n",
              "      <button class=\"colab-df-convert\" onclick=\"convertToInteractive('df-f05c6f36-ed8c-43c9-ae2c-e6f5004f0a01')\"\n",
              "              title=\"Convert this dataframe to an interactive table.\"\n",
              "              style=\"display:none;\">\n",
              "        \n",
              "  <svg xmlns=\"http://www.w3.org/2000/svg\" height=\"24px\"viewBox=\"0 0 24 24\"\n",
              "       width=\"24px\">\n",
              "    <path d=\"M0 0h24v24H0V0z\" fill=\"none\"/>\n",
              "    <path d=\"M18.56 5.44l.94 2.06.94-2.06 2.06-.94-2.06-.94-.94-2.06-.94 2.06-2.06.94zm-11 1L8.5 8.5l.94-2.06 2.06-.94-2.06-.94L8.5 2.5l-.94 2.06-2.06.94zm10 10l.94 2.06.94-2.06 2.06-.94-2.06-.94-.94-2.06-.94 2.06-2.06.94z\"/><path d=\"M17.41 7.96l-1.37-1.37c-.4-.4-.92-.59-1.43-.59-.52 0-1.04.2-1.43.59L10.3 9.45l-7.72 7.72c-.78.78-.78 2.05 0 2.83L4 21.41c.39.39.9.59 1.41.59.51 0 1.02-.2 1.41-.59l7.78-7.78 2.81-2.81c.8-.78.8-2.07 0-2.86zM5.41 20L4 18.59l7.72-7.72 1.47 1.35L5.41 20z\"/>\n",
              "  </svg>\n",
              "      </button>\n",
              "      \n",
              "  <style>\n",
              "    .colab-df-container {\n",
              "      display:flex;\n",
              "      flex-wrap:wrap;\n",
              "      gap: 12px;\n",
              "    }\n",
              "\n",
              "    .colab-df-convert {\n",
              "      background-color: #E8F0FE;\n",
              "      border: none;\n",
              "      border-radius: 50%;\n",
              "      cursor: pointer;\n",
              "      display: none;\n",
              "      fill: #1967D2;\n",
              "      height: 32px;\n",
              "      padding: 0 0 0 0;\n",
              "      width: 32px;\n",
              "    }\n",
              "\n",
              "    .colab-df-convert:hover {\n",
              "      background-color: #E2EBFA;\n",
              "      box-shadow: 0px 1px 2px rgba(60, 64, 67, 0.3), 0px 1px 3px 1px rgba(60, 64, 67, 0.15);\n",
              "      fill: #174EA6;\n",
              "    }\n",
              "\n",
              "    [theme=dark] .colab-df-convert {\n",
              "      background-color: #3B4455;\n",
              "      fill: #D2E3FC;\n",
              "    }\n",
              "\n",
              "    [theme=dark] .colab-df-convert:hover {\n",
              "      background-color: #434B5C;\n",
              "      box-shadow: 0px 1px 3px 1px rgba(0, 0, 0, 0.15);\n",
              "      filter: drop-shadow(0px 1px 2px rgba(0, 0, 0, 0.3));\n",
              "      fill: #FFFFFF;\n",
              "    }\n",
              "  </style>\n",
              "\n",
              "      <script>\n",
              "        const buttonEl =\n",
              "          document.querySelector('#df-f05c6f36-ed8c-43c9-ae2c-e6f5004f0a01 button.colab-df-convert');\n",
              "        buttonEl.style.display =\n",
              "          google.colab.kernel.accessAllowed ? 'block' : 'none';\n",
              "\n",
              "        async function convertToInteractive(key) {\n",
              "          const element = document.querySelector('#df-f05c6f36-ed8c-43c9-ae2c-e6f5004f0a01');\n",
              "          const dataTable =\n",
              "            await google.colab.kernel.invokeFunction('convertToInteractive',\n",
              "                                                     [key], {});\n",
              "          if (!dataTable) return;\n",
              "\n",
              "          const docLinkHtml = 'Like what you see? Visit the ' +\n",
              "            '<a target=\"_blank\" href=https://colab.research.google.com/notebooks/data_table.ipynb>data table notebook</a>'\n",
              "            + ' to learn more about interactive tables.';\n",
              "          element.innerHTML = '';\n",
              "          dataTable['output_type'] = 'display_data';\n",
              "          await google.colab.output.renderOutput(dataTable, element);\n",
              "          const docLink = document.createElement('div');\n",
              "          docLink.innerHTML = docLinkHtml;\n",
              "          element.appendChild(docLink);\n",
              "        }\n",
              "      </script>\n",
              "    </div>\n",
              "  </div>\n",
              "  "
            ]
          },
          "metadata": {},
          "execution_count": 34
        }
      ]
    },
    {
      "cell_type": "code",
      "source": [
        "# Hot_encoding (Very nad performance)\n",
        "\n",
        "\n",
        "one_hot_encoded_data_train= pd.get_dummies(data_f_train,columns=['Gender','Customer_Type','Type_Travel','Travel_Class','Seat_Comfort','Arrival_Time_Convenient','Catering','Platform_Location','Onboard_Wifi_Service','Onboard_Entertainment','Online_Support','Ease_of_Online_Booking','Onboard_Service','Legroom',\n",
        "                                                         'Baggage_Handling','CheckIn_Service','Cleanliness','Online_Boarding','Seat_Class'])\n",
        "one_hot_encoded_data_train\n",
        "\n",
        "#___________________________________________________________________________________________________________________________________________________________________\n",
        "\n",
        "\n",
        "one_hot_encoded_data_test= pd.get_dummies(data_f_test,columns=['Gender','Customer_Type','Type_Travel','Travel_Class','Seat_Comfort','Arrival_Time_Convenient','Catering','Platform_Location','Onboard_Wifi_Service','Onboard_Entertainment','Online_Support','Ease_of_Online_Booking','Onboard_Service','Legroom',\n",
        "                                                         'Baggage_Handling','CheckIn_Service','Cleanliness','Online_Boarding','Seat_Class'])\n",
        "one_hot_encoded_data_test"
      ],
      "metadata": {
        "id": "h6EJHudsuIFO"
      },
      "execution_count": null,
      "outputs": []
    },
    {
      "cell_type": "markdown",
      "source": [
        "### Dealing with missing values"
      ],
      "metadata": {
        "id": "pFrrbi7-uMVS"
      }
    },
    {
      "cell_type": "code",
      "source": [
        "#check to see which columns are missing values\n",
        "\n",
        "label_encoded_test.columns[label_encoded_test.isnull().any()]\n",
        "label_encoded_train.columns[label_encoded_train.isnull().any()]\n",
        "\n",
        "#The missing values are numeric so we can use mean to fill them in"
      ],
      "metadata": {
        "colab": {
          "base_uri": "https://localhost:8080/"
        },
        "id": "pbYRWUJi9jjc",
        "outputId": "a6706c68-1b85-4621-e383-57f8a97e9764"
      },
      "execution_count": null,
      "outputs": [
        {
          "output_type": "execute_result",
          "data": {
            "text/plain": [
              "Index(['Age', 'Departure_Delay_in_Mins', 'Arrival_Delay_in_Mins'], dtype='object')"
            ]
          },
          "metadata": {},
          "execution_count": 28
        }
      ]
    },
    {
      "cell_type": "code",
      "source": [
        "# Imputing with mean\n",
        "\n",
        "\n",
        "label_encoded_train['Age'] = label_encoded_train['Age'].fillna((label_encoded_train['Age'].mean()))\n",
        "label_encoded_train['Departure_Delay_in_Mins'] = label_encoded_train['Departure_Delay_in_Mins'].fillna((label_encoded_train['Departure_Delay_in_Mins'].mean()))\n",
        "label_encoded_train['Departure_Delay_in_Mins'] = label_encoded_train['Departure_Delay_in_Mins'].fillna((label_encoded_train['Departure_Delay_in_Mins'].mean()))\n",
        "label_encoded_train_mean= label_encoded_train\n",
        "\n",
        "label_encoded_test['Age'] = label_encoded_test['Age'].fillna((label_encoded_test['Age'].mean()))\n",
        "label_encoded_test['Departure_Delay_in_Mins'] = label_encoded_test['Departure_Delay_in_Mins'].fillna((label_encoded_test['Departure_Delay_in_Mins'].mean()))\n",
        "label_encoded_test['Departure_Delay_in_Mins'] = label_encoded_test['Departure_Delay_in_Mins'].fillna((label_encoded_test['Departure_Delay_in_Mins'].mean()))\n",
        "label_encoded_test_mean= label_encoded_test\n",
        "print(label_encoded_test_mean.isnull().any())\n"
      ],
      "metadata": {
        "colab": {
          "base_uri": "https://localhost:8080/"
        },
        "id": "BoTwqybI90ot",
        "outputId": "1949fc96-f8f6-4c71-97a7-4c7ed601792e"
      },
      "execution_count": null,
      "outputs": [
        {
          "output_type": "stream",
          "name": "stdout",
          "text": [
            "Gender                     False\n",
            "Customer_Type              False\n",
            "Age                        False\n",
            "Type_Travel                False\n",
            "Travel_Class               False\n",
            "Travel_Distance            False\n",
            "Departure_Delay_in_Mins    False\n",
            "Seat_Comfort               False\n",
            "Seat_Class                 False\n",
            "Arrival_Time_Convenient    False\n",
            "Catering                   False\n",
            "Platform_Location          False\n",
            "Onboard_Wifi_Service       False\n",
            "Onboard_Entertainment      False\n",
            "Online_Support             False\n",
            "Ease_of_Online_Booking     False\n",
            "Onboard_Service            False\n",
            "Legroom                    False\n",
            "Baggage_Handling           False\n",
            "CheckIn_Service            False\n",
            "Cleanliness                False\n",
            "Online_Boarding            False\n",
            "dtype: bool\n"
          ]
        }
      ]
    },
    {
      "cell_type": "code",
      "source": [
        "# Imputing with the most frequent\n",
        "\n",
        "label_encoded_train_IMP=label_encoded_train.mask(label_encoded_train == '')\n",
        "label_encoded_train_IMP = label_encoded_train_IMP.apply(lambda x: x.fillna(x.value_counts().index[0]))\n",
        "#label_encoded_train_IMP= label_encoded_train_IMP.drop('ID',1)\n",
        "label_encoded_train_IMP\n",
        "\n",
        "#___________________________________________________________________________________________________________________________________________________________________\n",
        "\n",
        "\n",
        "label_encoded_test_IMP = label_encoded_test.mask(data_f_test == '')\n",
        "label_encoded_test_IMP = label_encoded_test_IMP.apply(lambda x: x.fillna(x.value_counts().index[0]))\n",
        "#label_encoded_test_IMP= label_encoded_test_IMP.drop('ID',1)\n",
        "label_encoded_test_IMP\n"
      ],
      "metadata": {
        "id": "hRAovIoGtS4x"
      },
      "execution_count": null,
      "outputs": []
    },
    {
      "cell_type": "code",
      "source": [
        "#droping data(very bad)\n",
        "\n",
        "label_encoded_train_droped= label_encoded_train.dropna()\n",
        "label_encoded_train_droped= label_encoded_train_droped.drop('ID',1)\n",
        "label_encoded_test_droped= label_encoded_test.dropna() # This is not working! Answer to all the data set must be provided. So I will impute this one."
      ],
      "metadata": {
        "id": "9RjMIUI0xer3"
      },
      "execution_count": null,
      "outputs": []
    },
    {
      "cell_type": "code",
      "source": [
        "y_data= one_hot_encoded_data_train['Overall_Experience']\n",
        "x_data= one_hot_encoded_data_train.drop('Overall_Experience',1)\n",
        "\n",
        "x_train, x_test, y_train, y_test = train_test_split(x_data, y_data ,test_size = 0.2, shuffle=False)"
      ],
      "metadata": {
        "id": "qYZ0IBGcGFg1"
      },
      "execution_count": null,
      "outputs": []
    },
    {
      "cell_type": "code",
      "source": [
        "# KNN\n",
        "\n",
        "from sklearn.impute import KNNImputer\n",
        "imputer = KNNImputer(n_neighbors=3)\n",
        "imputer.fit(label_encoded_train)\n",
        "arr = imputer.transform(label_encoded_train)\n",
        "label_encoded_train = pd.DataFrame(arr, columns = label_encoded_train.columns, index = label_encoded_train.index)\n",
        "\n",
        "#_____________________________________________________________________________________________________\n",
        "\n",
        "\n",
        "imputer = KNNImputer(n_neighbors=3)\n",
        "imputer.fit(label_encoded_test)\n",
        "arr = imputer.transform(label_encoded_test)\n",
        "label_encoded_test = pd.DataFrame(arr, columns = label_encoded_test.columns, index = label_encoded_test.index)"
      ],
      "metadata": {
        "id": "ICI31B83_wVY"
      },
      "execution_count": null,
      "outputs": []
    },
    {
      "cell_type": "markdown",
      "source": [
        "### Algorithms"
      ],
      "metadata": {
        "id": "UuLfwE4bwWiW"
      }
    },
    {
      "cell_type": "code",
      "source": [
        "# Logestic regression\n",
        "\n",
        "from sklearn.linear_model import LogisticRegression\n",
        "\n",
        "# instantiate the model (using the default parameters)\n",
        "lr = LogisticRegression(random_state=16)\n",
        "\n",
        "# fit the model with data\n",
        "lr.fit(x_train, y_train)\n",
        "\n",
        "y_pred = lr.predict(x_test)\n",
        "\n",
        "\n",
        "# import the metrics class\n",
        "from sklearn.metrics import classification_report\n",
        "target_names = ['unhappy', 'happy']\n",
        "print(classification_report(y_test, y_pred, target_names=target_names))"
      ],
      "metadata": {
        "colab": {
          "base_uri": "https://localhost:8080/"
        },
        "id": "bv7MBa1aZwHu",
        "outputId": "2e01ff22-9d6a-408a-ab71-599f7475b15d"
      },
      "execution_count": null,
      "outputs": [
        {
          "output_type": "stream",
          "name": "stdout",
          "text": [
            "              precision    recall  f1-score   support\n",
            "\n",
            "     unhappy       0.88      0.87      0.87      8555\n",
            "       happy       0.89      0.90      0.90     10321\n",
            "\n",
            "    accuracy                           0.89     18876\n",
            "   macro avg       0.89      0.89      0.89     18876\n",
            "weighted avg       0.89      0.89      0.89     18876\n",
            "\n"
          ]
        }
      ]
    },
    {
      "cell_type": "code",
      "source": [
        "#Naive Bayes \n",
        "\n",
        "from sklearn.preprocessing import StandardScaler\n",
        "sc = StandardScaler()\n",
        "x_train = sc.fit_transform(x_train)\n",
        "x_test = sc.transform(x_test)\n",
        "\n",
        "\n",
        "from sklearn.naive_bayes import GaussianNB\n",
        "classifier = GaussianNB()\n",
        "classifier.fit(x_train, y_train)\n",
        "\n",
        "y_pred  =  classifier.predict(x_test)\n",
        "\n",
        "target_names = ['unhappy', 'happy']\n",
        "print(classification_report(y_test, y_pred, target_names=target_names))"
      ],
      "metadata": {
        "colab": {
          "base_uri": "https://localhost:8080/"
        },
        "id": "JcmdA_LDSMxe",
        "outputId": "af544f2f-c18c-4930-e5ce-06670184af18"
      },
      "execution_count": null,
      "outputs": [
        {
          "output_type": "stream",
          "name": "stdout",
          "text": [
            "              precision    recall  f1-score   support\n",
            "\n",
            "     unhappy       0.98      0.05      0.10      8555\n",
            "       happy       0.56      1.00      0.72     10321\n",
            "\n",
            "    accuracy                           0.57     18876\n",
            "   macro avg       0.77      0.53      0.41     18876\n",
            "weighted avg       0.75      0.57      0.44     18876\n",
            "\n"
          ]
        }
      ]
    },
    {
      "cell_type": "code",
      "source": [
        "#Import knearest neighbors Classifier model\n",
        "from sklearn.neighbors import KNeighborsClassifier\n",
        "\n",
        "#Create KNN Classifier\n",
        "knn = KNeighborsClassifier(n_neighbors=8)\n",
        "\n",
        "#Train the model using the training sets\n",
        "knn.fit(x_train, y_train)\n",
        "\n",
        "#Predict the response for test dataset\n",
        "y_pred = knn.predict(x_test)\n",
        "\n",
        "target_names = ['unhappy', 'happy']\n",
        "print(classification_report(y_test, y_pred, target_names=target_names))"
      ],
      "metadata": {
        "colab": {
          "base_uri": "https://localhost:8080/"
        },
        "id": "zP08nFIRZ1ue",
        "outputId": "21e998e0-4865-4be4-8c03-c58833f10659"
      },
      "execution_count": null,
      "outputs": [
        {
          "output_type": "stream",
          "name": "stdout",
          "text": [
            "              precision    recall  f1-score   support\n",
            "\n",
            "     unhappy       0.91      0.94      0.93      8555\n",
            "       happy       0.95      0.93      0.94     10321\n",
            "\n",
            "    accuracy                           0.93     18876\n",
            "   macro avg       0.93      0.93      0.93     18876\n",
            "weighted avg       0.93      0.93      0.93     18876\n",
            "\n"
          ]
        }
      ]
    },
    {
      "cell_type": "code",
      "source": [
        "# Create Decision Tree classifer object\n",
        "from sklearn.tree import DecisionTreeClassifier\n",
        "\n",
        "clf = DecisionTreeClassifier(criterion=\"entropy\", max_depth=7)\n",
        "\n",
        "# Train Decision Tree Classifer\n",
        "clf = clf.fit(x_train,y_train)\n",
        "\n",
        "#Predict the response for test dataset\n",
        "y_pred = clf.predict(x_test)\n",
        "\n",
        "target_names = ['unhappy', 'happy']\n",
        "print(classification_report(y_test, y_pred, target_names=target_names))"
      ],
      "metadata": {
        "colab": {
          "base_uri": "https://localhost:8080/"
        },
        "id": "rbD45B28mc38",
        "outputId": "cba2ebb7-2bca-4086-9ebe-c6af78f0dc00"
      },
      "execution_count": null,
      "outputs": [
        {
          "output_type": "stream",
          "name": "stdout",
          "text": [
            "              precision    recall  f1-score   support\n",
            "\n",
            "     unhappy       0.87      0.89      0.88      8555\n",
            "       happy       0.91      0.89      0.90     10321\n",
            "\n",
            "    accuracy                           0.89     18876\n",
            "   macro avg       0.89      0.89      0.89     18876\n",
            "weighted avg       0.89      0.89      0.89     18876\n",
            "\n"
          ]
        }
      ]
    },
    {
      "cell_type": "code",
      "source": [
        "#Import svm model\n",
        "from sklearn import svm\n",
        "\n",
        "#Create a svm Classifier\n",
        "clf = svm.SVC(kernel='linear') # Linear Kernel\n",
        "\n",
        "#Train the model using the training sets\n",
        "clf.fit(x_train, y_train)\n",
        "\n",
        "#Predict the response for test dataset\n",
        "y_pred = clf.predict(x_test)\n",
        "\n",
        "target_names = ['unhappy', 'happy']\n",
        "print(classification_report(y_test, y_pred, target_names=target_names))"
      ],
      "metadata": {
        "id": "j5YJPxq8mw9G"
      },
      "execution_count": null,
      "outputs": []
    },
    {
      "cell_type": "markdown",
      "source": [
        "###Test data (hot_encoded)"
      ],
      "metadata": {
        "id": "ov1fI0SbpSO9"
      }
    },
    {
      "cell_type": "code",
      "source": [
        "test=list(one_hot_encoded_data_test)\n",
        "train=list(one_hot_encoded_data_train)\n",
        "\n",
        "res = [ ele for ele in train ]\n",
        "for a in test:\n",
        "  if a in train:\n",
        "    res.remove(a)\n",
        "res\n",
        " \n",
        "for i in res:\n",
        "  if i == 'Overall_Experience':\n",
        "    pass\n",
        "  else:\n",
        "    one_hot_encoded_data_test[i] = 0\n",
        "\n"
      ],
      "metadata": {
        "id": "xtAHlkbgxcmL"
      },
      "execution_count": null,
      "outputs": []
    },
    {
      "cell_type": "code",
      "source": [
        "# Test and train data\n",
        "y_train= one_hot_encoded_data_train['Overall_Experience']\n",
        "x_train= one_hot_encoded_data_train.drop('Overall_Experience',1)\n",
        "x_test= one_hot_encoded_data_test"
      ],
      "metadata": {
        "id": "sAixjSib5JoC"
      },
      "execution_count": null,
      "outputs": []
    },
    {
      "cell_type": "code",
      "source": [
        "#Import knearest neighbors Classifier model\n",
        "from sklearn.neighbors import KNeighborsClassifier\n",
        "\n",
        "#Create KNN Classifier\n",
        "knn = KNeighborsClassifier(n_neighbors=8)\n",
        "\n",
        "#Train the model using the training sets\n",
        "knn.fit(x_train, y_train)\n",
        "\n",
        "#Predict the response for test dataset\n",
        "y_pred_KNN = knn.predict(x_test)\n",
        "\n",
        "print (y_pred_KNN)\n",
        "\n",
        "\n",
        "ID = list(range(99900001, 99935603))\n",
        "print(len(ID), len(y_pred_KNN))\n",
        "\n",
        "df_main = pd.DataFrame({'ID':ID, 'Overall_Experience':y_pred_KNN})\n",
        "df_main\n",
        "\n",
        "df_main.to_csv('KNN.csv')"
      ],
      "metadata": {
        "colab": {
          "base_uri": "https://localhost:8080/"
        },
        "id": "HF2hEx2NpfRL",
        "outputId": "5f56cea5-8365-4a9a-dd6f-7aaae623dcca"
      },
      "execution_count": null,
      "outputs": [
        {
          "output_type": "stream",
          "name": "stdout",
          "text": [
            "[1 1 1 ... 0 1 0]\n"
          ]
        }
      ]
    },
    {
      "cell_type": "code",
      "source": [
        "# Logestic regression\n",
        "\n",
        "from sklearn.linear_model import LogisticRegression\n",
        "\n",
        "# instantiate the model (using the default parameters)\n",
        "lr = LogisticRegression(random_state=16)\n",
        "\n",
        "# fit the model with data\n",
        "lr.fit(x_train, y_train)\n",
        "\n",
        "y_pred_lr = lr.predict(x_test)\n",
        "\n",
        "print (y_pred_lr)\n",
        "\n",
        "\n",
        "ID = list(range(99900001, 99935603))\n",
        "print(len(ID), len(y_pred_lr))\n",
        "\n",
        "df_lr = pd.DataFrame({'ID':ID, 'Overall_Experience':y_pred_lr})\n",
        "df_lr\n",
        "\n",
        "df_lr.to_csv('lr.csv')"
      ],
      "metadata": {
        "colab": {
          "base_uri": "https://localhost:8080/"
        },
        "id": "vb_wTCfr5Xk4",
        "outputId": "d7815343-ae2d-4cb3-cde3-c27504050066"
      },
      "execution_count": null,
      "outputs": [
        {
          "output_type": "stream",
          "name": "stdout",
          "text": [
            "[0 0 1 ... 0 1 1]\n",
            "35602 35602\n"
          ]
        }
      ]
    },
    {
      "cell_type": "code",
      "source": [
        "# Create Decision Tree classifer object\n",
        "from sklearn.tree import DecisionTreeClassifier\n",
        "clf = DecisionTreeClassifier(criterion=\"entropy\", max_depth=7)\n",
        "\n",
        "# Train Decision Tree Classifer\n",
        "clf = clf.fit(x_train,y_train)\n",
        "\n",
        "#Predict the response for test dataset\n",
        "y_pred_clf = clf.predict(x_test)\n",
        "\n",
        "ID = list(range(99900001, 99935603))\n",
        "print(len(ID), len(y_pred_clf))\n",
        "\n",
        "df_clf = pd.DataFrame({'ID':ID, 'Overall_Experience':y_pred_clf})\n",
        "df_clf\n",
        "\n",
        "df_clf.to_csv('clf.csv')"
      ],
      "metadata": {
        "colab": {
          "base_uri": "https://localhost:8080/"
        },
        "id": "uik7R5iY6kXB",
        "outputId": "aff9aff5-dcbb-4af8-af3c-1744a3ae7536"
      },
      "execution_count": null,
      "outputs": [
        {
          "output_type": "stream",
          "name": "stdout",
          "text": [
            "35602 35602\n"
          ]
        }
      ]
    },
    {
      "cell_type": "markdown",
      "source": [
        "###Test_data (label encoded)"
      ],
      "metadata": {
        "id": "PgPOatSX-nKX"
      }
    },
    {
      "cell_type": "code",
      "source": [
        "# Test and train data\n",
        "y_train= label_encoded_train_mean['Overall_Experience']\n",
        "x_train= label_encoded_train_mean.drop('Overall_Experience',1)\n",
        "x_test= label_encoded_test_mean\n",
        "\n",
        "\n",
        "res = [ ele for ele in x_train ]\n",
        "for a in x_test:\n",
        "  if a in x_train:\n",
        "    res.remove(a)\n",
        "res\n",
        " "
      ],
      "metadata": {
        "id": "AjnWKBC0-y9v",
        "colab": {
          "base_uri": "https://localhost:8080/"
        },
        "outputId": "2f351cf5-eb04-4d44-81dd-5cdcc5690df0"
      },
      "execution_count": null,
      "outputs": [
        {
          "output_type": "execute_result",
          "data": {
            "text/plain": [
              "[]"
            ]
          },
          "metadata": {},
          "execution_count": 39
        }
      ]
    },
    {
      "cell_type": "code",
      "source": [
        "#Import knearest neighbors Classifier model\n",
        "from sklearn.neighbors import KNeighborsClassifier\n",
        "\n",
        "#Create KNN Classifier\n",
        "knn = KNeighborsClassifier(n_neighbors=5)\n",
        "\n",
        "#Train the model using the training sets\n",
        "knn.fit(x_train, y_train)\n",
        "\n",
        "#Predict the response for test dataset\n",
        "y_pred_KNN = knn.predict(x_test)\n",
        "\n",
        "print (y_pred_KNN)\n",
        "\n",
        "\n",
        "ID = list(range(99900001, 99935603))\n",
        "print(len(ID), len(y_pred_KNN))\n",
        "\n",
        "df_KNN = pd.DataFrame({'ID':ID, 'Overall_Experience':y_pred_KNN})\n",
        "df_KNN\n",
        "\n",
        "df_KNN.to_csv('KNN.csv')"
      ],
      "metadata": {
        "colab": {
          "base_uri": "https://localhost:8080/"
        },
        "id": "CfaysS77-sWD",
        "outputId": "2170e706-bcea-42d1-fd9f-c641eac8597d"
      },
      "execution_count": null,
      "outputs": [
        {
          "output_type": "stream",
          "name": "stdout",
          "text": [
            "[1 1 1 ... 1 1 0]\n",
            "35602 35602\n"
          ]
        }
      ]
    },
    {
      "cell_type": "code",
      "source": [
        "# Logestic regression\n",
        "\n",
        "from sklearn.linear_model import LogisticRegression\n",
        "\n",
        "# instantiate the model (using the default parameters)\n",
        "lr = LogisticRegression(random_state=16)\n",
        "\n",
        "# fit the model with data\n",
        "lr.fit(x_train, y_train)\n",
        "\n",
        "y_pred_lr = lr.predict(x_test)\n",
        "\n",
        "print (y_pred_lr)\n",
        "\n",
        "\n",
        "ID = list(range(99900001, 99935603))\n",
        "print(len(ID), len(y_pred_lr))\n",
        "\n",
        "df_lr = pd.DataFrame({'ID':ID, 'Overall_Experience':y_pred_lr})\n",
        "df_lr\n",
        "\n",
        "df_lr.to_csv('lr.csv')\n",
        "\n"
      ],
      "metadata": {
        "colab": {
          "base_uri": "https://localhost:8080/"
        },
        "id": "7YcIRS1bskwa",
        "outputId": "721f2707-e07f-42b6-b1cd-96c3fd0bdf0f"
      },
      "execution_count": null,
      "outputs": [
        {
          "output_type": "stream",
          "name": "stdout",
          "text": [
            "[1 1 1 ... 0 1 0]\n",
            "35602 35602\n"
          ]
        }
      ]
    },
    {
      "cell_type": "code",
      "source": [
        "importance = lr.coef_[0]\n",
        "# summarize feature importance\n",
        "for i,v in enumerate(importance):\n",
        "\tprint('Feature: %0d, Score: %.5f' % (i,v))\n",
        "\n"
      ],
      "metadata": {
        "id": "OmPuMLChSXEJ"
      },
      "execution_count": null,
      "outputs": []
    },
    {
      "cell_type": "code",
      "source": [
        "# Random forest\n",
        "\n",
        "from sklearn.ensemble import RandomForestClassifier\n",
        "\n",
        "rf=RandomForestClassifier(n_estimators=100)\n",
        "\n",
        "#Train the model using the training sets y_pred=clf.predict(X_test)\n",
        "rf.fit(x_train,y_train)\n",
        "\n",
        "y_pred_rf=rf.predict(x_test)\n",
        "\n",
        "\n",
        "y_pred_rf = rf.predict(x_test)\n",
        "\n",
        "print (y_pred_rf)\n",
        "\n",
        "\n",
        "ID = list(range(99900001, 99935603))\n",
        "print(len(ID), len(y_pred_rf))\n",
        "\n",
        "df_rf = pd.DataFrame({'ID':ID, 'Overall_Experience':y_pred_rf})\n",
        "df_rf\n",
        "\n",
        "df_rf.to_csv('rf.csv')"
      ],
      "metadata": {
        "colab": {
          "base_uri": "https://localhost:8080/"
        },
        "id": "qDc71zSenFqn",
        "outputId": "4b9f848c-d0c0-4715-9b05-355016e4dbd6"
      },
      "execution_count": null,
      "outputs": [
        {
          "output_type": "stream",
          "name": "stdout",
          "text": [
            "[1 1 1 ... 1 1 0]\n",
            "35602 35602\n"
          ]
        }
      ]
    },
    {
      "cell_type": "code",
      "source": [
        "from sklearn.linear_model import LogisticRegression\n",
        "from sklearn.feature_selection import RFE\n",
        "\n",
        "\n",
        "\n",
        "lr = LogisticRegression(solver='liblinear', random_state=123)\n",
        "\n",
        "rfe = RFE(estimator=lr, n_features_to_select=10, step=1)\n",
        "rfe.fit(x_train, y_train)\n",
        "\n",
        "X_train_sub = rfe.transform(x_train)\n",
        "\n",
        "small=label_encoded_train_mean.columns[1:][rfe.support_]\n",
        "print(small)\n",
        "\n",
        "res = [ ele for ele in label_encoded_train ]\n",
        "for a in small:\n",
        "  if a in label_encoded_train:\n",
        "    res.remove(a)\n",
        "res"
      ],
      "metadata": {
        "colab": {
          "base_uri": "https://localhost:8080/"
        },
        "id": "xxfNBxg_8dAp",
        "outputId": "6aa36257-159a-4560-9504-3da350a5d64a"
      },
      "execution_count": null,
      "outputs": [
        {
          "output_type": "stream",
          "name": "stdout",
          "text": [
            "Index(['Customer_Type', 'Age', 'Travel_Distance', 'Seat_Comfort',\n",
            "       'Online_Support', 'Onboard_Service', 'Legroom', 'Baggage_Handling',\n",
            "       'CheckIn_Service', 'Online_Boarding'],\n",
            "      dtype='object')\n"
          ]
        },
        {
          "output_type": "execute_result",
          "data": {
            "text/plain": [
              "['Gender',\n",
              " 'Type_Travel',\n",
              " 'Travel_Class',\n",
              " 'Departure_Delay_in_Mins',\n",
              " 'Arrival_Delay_in_Mins',\n",
              " 'Overall_Experience',\n",
              " 'Seat_Class',\n",
              " 'Arrival_Time_Convenient',\n",
              " 'Catering',\n",
              " 'Platform_Location',\n",
              " 'Onboard_Wifi_Service',\n",
              " 'Onboard_Entertainment',\n",
              " 'Ease_of_Online_Booking',\n",
              " 'Cleanliness']"
            ]
          },
          "metadata": {},
          "execution_count": 49
        }
      ]
    },
    {
      "cell_type": "code",
      "source": [
        "# evaluate random forest algorithm for classification\n",
        "from numpy import mean\n",
        "from numpy import std\n",
        "from sklearn.datasets import make_classification\n",
        "from sklearn.model_selection import cross_val_score\n",
        "from sklearn.model_selection import RepeatedStratifiedKFold\n",
        "from sklearn.ensemble import RandomForestClassifier\n",
        "# define dataset\n",
        "\n",
        "# define the model\n",
        "rand_forest_classifier_cv = RandomForestClassifier()\n",
        "# evaluate the model\n",
        "cv = RepeatedStratifiedKFold(n_splits=10, n_repeats=3, random_state=1)\n",
        "n_scores = cross_val_score(rand_forest_classifier_cv, x_train,y_train , scoring='accuracy', cv=cv, n_jobs=-1, error_score='raise')\n",
        "# report performance\n",
        "print('Accuracy: %.3f (%.3f)' % (mean(n_scores), std(n_scores)))"
      ],
      "metadata": {
        "colab": {
          "base_uri": "https://localhost:8080/",
          "height": 380
        },
        "id": "aibIiU7ZD0Hj",
        "outputId": "e02ccf4a-b36a-4ae4-dc26-7d724bacac2e"
      },
      "execution_count": null,
      "outputs": [
        {
          "output_type": "error",
          "ename": "KeyboardInterrupt",
          "evalue": "ignored",
          "traceback": [
            "\u001b[0;31m---------------------------------------------------------------------------\u001b[0m",
            "\u001b[0;31mKeyboardInterrupt\u001b[0m                         Traceback (most recent call last)",
            "\u001b[0;32m<ipython-input-48-92b17f8d849f>\u001b[0m in \u001b[0;36m<module>\u001b[0;34m()\u001b[0m\n\u001b[1;32m     12\u001b[0m \u001b[0;31m# evaluate the model\u001b[0m\u001b[0;34m\u001b[0m\u001b[0;34m\u001b[0m\u001b[0;34m\u001b[0m\u001b[0m\n\u001b[1;32m     13\u001b[0m \u001b[0mcv\u001b[0m \u001b[0;34m=\u001b[0m \u001b[0mRepeatedStratifiedKFold\u001b[0m\u001b[0;34m(\u001b[0m\u001b[0mn_splits\u001b[0m\u001b[0;34m=\u001b[0m\u001b[0;36m10\u001b[0m\u001b[0;34m,\u001b[0m \u001b[0mn_repeats\u001b[0m\u001b[0;34m=\u001b[0m\u001b[0;36m5\u001b[0m\u001b[0;34m,\u001b[0m \u001b[0mrandom_state\u001b[0m\u001b[0;34m=\u001b[0m\u001b[0;36m1\u001b[0m\u001b[0;34m)\u001b[0m\u001b[0;34m\u001b[0m\u001b[0;34m\u001b[0m\u001b[0m\n\u001b[0;32m---> 14\u001b[0;31m \u001b[0mn_scores\u001b[0m \u001b[0;34m=\u001b[0m \u001b[0mcross_val_score\u001b[0m\u001b[0;34m(\u001b[0m\u001b[0mrand_forest_classifier_cv\u001b[0m\u001b[0;34m,\u001b[0m \u001b[0mx_train\u001b[0m\u001b[0;34m,\u001b[0m\u001b[0my_train\u001b[0m \u001b[0;34m,\u001b[0m \u001b[0mscoring\u001b[0m\u001b[0;34m=\u001b[0m\u001b[0;34m'accuracy'\u001b[0m\u001b[0;34m,\u001b[0m \u001b[0mcv\u001b[0m\u001b[0;34m=\u001b[0m\u001b[0mcv\u001b[0m\u001b[0;34m,\u001b[0m \u001b[0mn_jobs\u001b[0m\u001b[0;34m=\u001b[0m\u001b[0;34m-\u001b[0m\u001b[0;36m1\u001b[0m\u001b[0;34m,\u001b[0m \u001b[0merror_score\u001b[0m\u001b[0;34m=\u001b[0m\u001b[0;34m'raise'\u001b[0m\u001b[0;34m)\u001b[0m\u001b[0;34m\u001b[0m\u001b[0;34m\u001b[0m\u001b[0m\n\u001b[0m\u001b[1;32m     15\u001b[0m \u001b[0;31m# report performance\u001b[0m\u001b[0;34m\u001b[0m\u001b[0;34m\u001b[0m\u001b[0;34m\u001b[0m\u001b[0m\n\u001b[1;32m     16\u001b[0m \u001b[0mprint\u001b[0m\u001b[0;34m(\u001b[0m\u001b[0;34m'Accuracy: %.3f (%.3f)'\u001b[0m \u001b[0;34m%\u001b[0m \u001b[0;34m(\u001b[0m\u001b[0mmean\u001b[0m\u001b[0;34m(\u001b[0m\u001b[0mn_scores\u001b[0m\u001b[0;34m)\u001b[0m\u001b[0;34m,\u001b[0m \u001b[0mstd\u001b[0m\u001b[0;34m(\u001b[0m\u001b[0mn_scores\u001b[0m\u001b[0;34m)\u001b[0m\u001b[0;34m)\u001b[0m\u001b[0;34m)\u001b[0m\u001b[0;34m\u001b[0m\u001b[0;34m\u001b[0m\u001b[0m\n",
            "\u001b[0;32m/usr/local/lib/python3.7/dist-packages/sklearn/model_selection/_validation.py\u001b[0m in \u001b[0;36mcross_val_score\u001b[0;34m(estimator, X, y, groups, scoring, cv, n_jobs, verbose, fit_params, pre_dispatch, error_score)\u001b[0m\n\u001b[1;32m    518\u001b[0m         \u001b[0mfit_params\u001b[0m\u001b[0;34m=\u001b[0m\u001b[0mfit_params\u001b[0m\u001b[0;34m,\u001b[0m\u001b[0;34m\u001b[0m\u001b[0;34m\u001b[0m\u001b[0m\n\u001b[1;32m    519\u001b[0m         \u001b[0mpre_dispatch\u001b[0m\u001b[0;34m=\u001b[0m\u001b[0mpre_dispatch\u001b[0m\u001b[0;34m,\u001b[0m\u001b[0;34m\u001b[0m\u001b[0;34m\u001b[0m\u001b[0m\n\u001b[0;32m--> 520\u001b[0;31m         \u001b[0merror_score\u001b[0m\u001b[0;34m=\u001b[0m\u001b[0merror_score\u001b[0m\u001b[0;34m,\u001b[0m\u001b[0;34m\u001b[0m\u001b[0;34m\u001b[0m\u001b[0m\n\u001b[0m\u001b[1;32m    521\u001b[0m     )\n\u001b[1;32m    522\u001b[0m     \u001b[0;32mreturn\u001b[0m \u001b[0mcv_results\u001b[0m\u001b[0;34m[\u001b[0m\u001b[0;34m\"test_score\"\u001b[0m\u001b[0;34m]\u001b[0m\u001b[0;34m\u001b[0m\u001b[0;34m\u001b[0m\u001b[0m\n",
            "\u001b[0;32m/usr/local/lib/python3.7/dist-packages/sklearn/model_selection/_validation.py\u001b[0m in \u001b[0;36mcross_validate\u001b[0;34m(estimator, X, y, groups, scoring, cv, n_jobs, verbose, fit_params, pre_dispatch, return_train_score, return_estimator, error_score)\u001b[0m\n\u001b[1;32m    281\u001b[0m             \u001b[0merror_score\u001b[0m\u001b[0;34m=\u001b[0m\u001b[0merror_score\u001b[0m\u001b[0;34m,\u001b[0m\u001b[0;34m\u001b[0m\u001b[0;34m\u001b[0m\u001b[0m\n\u001b[1;32m    282\u001b[0m         )\n\u001b[0;32m--> 283\u001b[0;31m         \u001b[0;32mfor\u001b[0m \u001b[0mtrain\u001b[0m\u001b[0;34m,\u001b[0m \u001b[0mtest\u001b[0m \u001b[0;32min\u001b[0m \u001b[0mcv\u001b[0m\u001b[0;34m.\u001b[0m\u001b[0msplit\u001b[0m\u001b[0;34m(\u001b[0m\u001b[0mX\u001b[0m\u001b[0;34m,\u001b[0m \u001b[0my\u001b[0m\u001b[0;34m,\u001b[0m \u001b[0mgroups\u001b[0m\u001b[0;34m)\u001b[0m\u001b[0;34m\u001b[0m\u001b[0;34m\u001b[0m\u001b[0m\n\u001b[0m\u001b[1;32m    284\u001b[0m     )\n\u001b[1;32m    285\u001b[0m \u001b[0;34m\u001b[0m\u001b[0m\n",
            "\u001b[0;32m/usr/local/lib/python3.7/dist-packages/joblib/parallel.py\u001b[0m in \u001b[0;36m__call__\u001b[0;34m(self, iterable)\u001b[0m\n\u001b[1;32m   1054\u001b[0m \u001b[0;34m\u001b[0m\u001b[0m\n\u001b[1;32m   1055\u001b[0m             \u001b[0;32mwith\u001b[0m \u001b[0mself\u001b[0m\u001b[0;34m.\u001b[0m\u001b[0m_backend\u001b[0m\u001b[0;34m.\u001b[0m\u001b[0mretrieval_context\u001b[0m\u001b[0;34m(\u001b[0m\u001b[0;34m)\u001b[0m\u001b[0;34m:\u001b[0m\u001b[0;34m\u001b[0m\u001b[0;34m\u001b[0m\u001b[0m\n\u001b[0;32m-> 1056\u001b[0;31m                 \u001b[0mself\u001b[0m\u001b[0;34m.\u001b[0m\u001b[0mretrieve\u001b[0m\u001b[0;34m(\u001b[0m\u001b[0;34m)\u001b[0m\u001b[0;34m\u001b[0m\u001b[0;34m\u001b[0m\u001b[0m\n\u001b[0m\u001b[1;32m   1057\u001b[0m             \u001b[0;31m# Make sure that we get a last message telling us we are done\u001b[0m\u001b[0;34m\u001b[0m\u001b[0;34m\u001b[0m\u001b[0;34m\u001b[0m\u001b[0m\n\u001b[1;32m   1058\u001b[0m             \u001b[0melapsed_time\u001b[0m \u001b[0;34m=\u001b[0m \u001b[0mtime\u001b[0m\u001b[0;34m.\u001b[0m\u001b[0mtime\u001b[0m\u001b[0;34m(\u001b[0m\u001b[0;34m)\u001b[0m \u001b[0;34m-\u001b[0m \u001b[0mself\u001b[0m\u001b[0;34m.\u001b[0m\u001b[0m_start_time\u001b[0m\u001b[0;34m\u001b[0m\u001b[0;34m\u001b[0m\u001b[0m\n",
            "\u001b[0;32m/usr/local/lib/python3.7/dist-packages/joblib/parallel.py\u001b[0m in \u001b[0;36mretrieve\u001b[0;34m(self)\u001b[0m\n\u001b[1;32m    933\u001b[0m             \u001b[0;32mtry\u001b[0m\u001b[0;34m:\u001b[0m\u001b[0;34m\u001b[0m\u001b[0;34m\u001b[0m\u001b[0m\n\u001b[1;32m    934\u001b[0m                 \u001b[0;32mif\u001b[0m \u001b[0mgetattr\u001b[0m\u001b[0;34m(\u001b[0m\u001b[0mself\u001b[0m\u001b[0;34m.\u001b[0m\u001b[0m_backend\u001b[0m\u001b[0;34m,\u001b[0m \u001b[0;34m'supports_timeout'\u001b[0m\u001b[0;34m,\u001b[0m \u001b[0;32mFalse\u001b[0m\u001b[0;34m)\u001b[0m\u001b[0;34m:\u001b[0m\u001b[0;34m\u001b[0m\u001b[0;34m\u001b[0m\u001b[0m\n\u001b[0;32m--> 935\u001b[0;31m                     \u001b[0mself\u001b[0m\u001b[0;34m.\u001b[0m\u001b[0m_output\u001b[0m\u001b[0;34m.\u001b[0m\u001b[0mextend\u001b[0m\u001b[0;34m(\u001b[0m\u001b[0mjob\u001b[0m\u001b[0;34m.\u001b[0m\u001b[0mget\u001b[0m\u001b[0;34m(\u001b[0m\u001b[0mtimeout\u001b[0m\u001b[0;34m=\u001b[0m\u001b[0mself\u001b[0m\u001b[0;34m.\u001b[0m\u001b[0mtimeout\u001b[0m\u001b[0;34m)\u001b[0m\u001b[0;34m)\u001b[0m\u001b[0;34m\u001b[0m\u001b[0;34m\u001b[0m\u001b[0m\n\u001b[0m\u001b[1;32m    936\u001b[0m                 \u001b[0;32melse\u001b[0m\u001b[0;34m:\u001b[0m\u001b[0;34m\u001b[0m\u001b[0;34m\u001b[0m\u001b[0m\n\u001b[1;32m    937\u001b[0m                     \u001b[0mself\u001b[0m\u001b[0;34m.\u001b[0m\u001b[0m_output\u001b[0m\u001b[0;34m.\u001b[0m\u001b[0mextend\u001b[0m\u001b[0;34m(\u001b[0m\u001b[0mjob\u001b[0m\u001b[0;34m.\u001b[0m\u001b[0mget\u001b[0m\u001b[0;34m(\u001b[0m\u001b[0;34m)\u001b[0m\u001b[0;34m)\u001b[0m\u001b[0;34m\u001b[0m\u001b[0;34m\u001b[0m\u001b[0m\n",
            "\u001b[0;32m/usr/local/lib/python3.7/dist-packages/joblib/_parallel_backends.py\u001b[0m in \u001b[0;36mwrap_future_result\u001b[0;34m(future, timeout)\u001b[0m\n\u001b[1;32m    540\u001b[0m         AsyncResults.get from multiprocessing.\"\"\"\n\u001b[1;32m    541\u001b[0m         \u001b[0;32mtry\u001b[0m\u001b[0;34m:\u001b[0m\u001b[0;34m\u001b[0m\u001b[0;34m\u001b[0m\u001b[0m\n\u001b[0;32m--> 542\u001b[0;31m             \u001b[0;32mreturn\u001b[0m \u001b[0mfuture\u001b[0m\u001b[0;34m.\u001b[0m\u001b[0mresult\u001b[0m\u001b[0;34m(\u001b[0m\u001b[0mtimeout\u001b[0m\u001b[0;34m=\u001b[0m\u001b[0mtimeout\u001b[0m\u001b[0;34m)\u001b[0m\u001b[0;34m\u001b[0m\u001b[0;34m\u001b[0m\u001b[0m\n\u001b[0m\u001b[1;32m    543\u001b[0m         \u001b[0;32mexcept\u001b[0m \u001b[0mCfTimeoutError\u001b[0m \u001b[0;32mas\u001b[0m \u001b[0me\u001b[0m\u001b[0;34m:\u001b[0m\u001b[0;34m\u001b[0m\u001b[0;34m\u001b[0m\u001b[0m\n\u001b[1;32m    544\u001b[0m             \u001b[0;32mraise\u001b[0m \u001b[0mTimeoutError\u001b[0m \u001b[0;32mfrom\u001b[0m \u001b[0me\u001b[0m\u001b[0;34m\u001b[0m\u001b[0;34m\u001b[0m\u001b[0m\n",
            "\u001b[0;32m/usr/lib/python3.7/concurrent/futures/_base.py\u001b[0m in \u001b[0;36mresult\u001b[0;34m(self, timeout)\u001b[0m\n\u001b[1;32m    428\u001b[0m                 \u001b[0;32mreturn\u001b[0m \u001b[0mself\u001b[0m\u001b[0;34m.\u001b[0m\u001b[0m__get_result\u001b[0m\u001b[0;34m(\u001b[0m\u001b[0;34m)\u001b[0m\u001b[0;34m\u001b[0m\u001b[0;34m\u001b[0m\u001b[0m\n\u001b[1;32m    429\u001b[0m \u001b[0;34m\u001b[0m\u001b[0m\n\u001b[0;32m--> 430\u001b[0;31m             \u001b[0mself\u001b[0m\u001b[0;34m.\u001b[0m\u001b[0m_condition\u001b[0m\u001b[0;34m.\u001b[0m\u001b[0mwait\u001b[0m\u001b[0;34m(\u001b[0m\u001b[0mtimeout\u001b[0m\u001b[0;34m)\u001b[0m\u001b[0;34m\u001b[0m\u001b[0;34m\u001b[0m\u001b[0m\n\u001b[0m\u001b[1;32m    431\u001b[0m \u001b[0;34m\u001b[0m\u001b[0m\n\u001b[1;32m    432\u001b[0m             \u001b[0;32mif\u001b[0m \u001b[0mself\u001b[0m\u001b[0;34m.\u001b[0m\u001b[0m_state\u001b[0m \u001b[0;32min\u001b[0m \u001b[0;34m[\u001b[0m\u001b[0mCANCELLED\u001b[0m\u001b[0;34m,\u001b[0m \u001b[0mCANCELLED_AND_NOTIFIED\u001b[0m\u001b[0;34m]\u001b[0m\u001b[0;34m:\u001b[0m\u001b[0;34m\u001b[0m\u001b[0;34m\u001b[0m\u001b[0m\n",
            "\u001b[0;32m/usr/lib/python3.7/threading.py\u001b[0m in \u001b[0;36mwait\u001b[0;34m(self, timeout)\u001b[0m\n\u001b[1;32m    294\u001b[0m         \u001b[0;32mtry\u001b[0m\u001b[0;34m:\u001b[0m    \u001b[0;31m# restore state no matter what (e.g., KeyboardInterrupt)\u001b[0m\u001b[0;34m\u001b[0m\u001b[0;34m\u001b[0m\u001b[0m\n\u001b[1;32m    295\u001b[0m             \u001b[0;32mif\u001b[0m \u001b[0mtimeout\u001b[0m \u001b[0;32mis\u001b[0m \u001b[0;32mNone\u001b[0m\u001b[0;34m:\u001b[0m\u001b[0;34m\u001b[0m\u001b[0;34m\u001b[0m\u001b[0m\n\u001b[0;32m--> 296\u001b[0;31m                 \u001b[0mwaiter\u001b[0m\u001b[0;34m.\u001b[0m\u001b[0macquire\u001b[0m\u001b[0;34m(\u001b[0m\u001b[0;34m)\u001b[0m\u001b[0;34m\u001b[0m\u001b[0;34m\u001b[0m\u001b[0m\n\u001b[0m\u001b[1;32m    297\u001b[0m                 \u001b[0mgotit\u001b[0m \u001b[0;34m=\u001b[0m \u001b[0;32mTrue\u001b[0m\u001b[0;34m\u001b[0m\u001b[0;34m\u001b[0m\u001b[0m\n\u001b[1;32m    298\u001b[0m             \u001b[0;32melse\u001b[0m\u001b[0;34m:\u001b[0m\u001b[0;34m\u001b[0m\u001b[0;34m\u001b[0m\u001b[0m\n",
            "\u001b[0;31mKeyboardInterrupt\u001b[0m: "
          ]
        }
      ]
    },
    {
      "cell_type": "code",
      "source": [
        "rand_forest_classifier_cv.fit(x_train, y_train)\n",
        "model = rand_forest_classifier_cv\n",
        "sub = pd.DataFrame(x_test)\n",
        "\n",
        "res = model.predict(x_test)\n",
        "\n",
        "sub[\"Overall_Experience\"] = res #res = model.predict(dfTest)\n",
        "sub_to_file = sub[[\"Overall_Experience\"]]\n",
        "sub_to_file.to_csv(\"rf_cl_cv_Day2_feature_eng.csv\", index = True)\n",
        "sub_to_file"
      ],
      "metadata": {
        "colab": {
          "base_uri": "https://localhost:8080/",
          "height": 424
        },
        "id": "ruDZfEXGEM_1",
        "outputId": "96d0fb5b-45a7-4cb8-c42d-e7841f94936d"
      },
      "execution_count": null,
      "outputs": [
        {
          "output_type": "execute_result",
          "data": {
            "text/plain": [
              "       Overall_Experience\n",
              "0                       1\n",
              "1                       1\n",
              "2                       1\n",
              "3                       0\n",
              "4                       1\n",
              "...                   ...\n",
              "35597                   0\n",
              "35598                   1\n",
              "35599                   1\n",
              "35600                   1\n",
              "35601                   0\n",
              "\n",
              "[35602 rows x 1 columns]"
            ],
            "text/html": [
              "\n",
              "  <div id=\"df-e4441922-f48a-4d7c-b904-4eb2baff0c10\">\n",
              "    <div class=\"colab-df-container\">\n",
              "      <div>\n",
              "<style scoped>\n",
              "    .dataframe tbody tr th:only-of-type {\n",
              "        vertical-align: middle;\n",
              "    }\n",
              "\n",
              "    .dataframe tbody tr th {\n",
              "        vertical-align: top;\n",
              "    }\n",
              "\n",
              "    .dataframe thead th {\n",
              "        text-align: right;\n",
              "    }\n",
              "</style>\n",
              "<table border=\"1\" class=\"dataframe\">\n",
              "  <thead>\n",
              "    <tr style=\"text-align: right;\">\n",
              "      <th></th>\n",
              "      <th>Overall_Experience</th>\n",
              "    </tr>\n",
              "  </thead>\n",
              "  <tbody>\n",
              "    <tr>\n",
              "      <th>0</th>\n",
              "      <td>1</td>\n",
              "    </tr>\n",
              "    <tr>\n",
              "      <th>1</th>\n",
              "      <td>1</td>\n",
              "    </tr>\n",
              "    <tr>\n",
              "      <th>2</th>\n",
              "      <td>1</td>\n",
              "    </tr>\n",
              "    <tr>\n",
              "      <th>3</th>\n",
              "      <td>0</td>\n",
              "    </tr>\n",
              "    <tr>\n",
              "      <th>4</th>\n",
              "      <td>1</td>\n",
              "    </tr>\n",
              "    <tr>\n",
              "      <th>...</th>\n",
              "      <td>...</td>\n",
              "    </tr>\n",
              "    <tr>\n",
              "      <th>35597</th>\n",
              "      <td>0</td>\n",
              "    </tr>\n",
              "    <tr>\n",
              "      <th>35598</th>\n",
              "      <td>1</td>\n",
              "    </tr>\n",
              "    <tr>\n",
              "      <th>35599</th>\n",
              "      <td>1</td>\n",
              "    </tr>\n",
              "    <tr>\n",
              "      <th>35600</th>\n",
              "      <td>1</td>\n",
              "    </tr>\n",
              "    <tr>\n",
              "      <th>35601</th>\n",
              "      <td>0</td>\n",
              "    </tr>\n",
              "  </tbody>\n",
              "</table>\n",
              "<p>35602 rows × 1 columns</p>\n",
              "</div>\n",
              "      <button class=\"colab-df-convert\" onclick=\"convertToInteractive('df-e4441922-f48a-4d7c-b904-4eb2baff0c10')\"\n",
              "              title=\"Convert this dataframe to an interactive table.\"\n",
              "              style=\"display:none;\">\n",
              "        \n",
              "  <svg xmlns=\"http://www.w3.org/2000/svg\" height=\"24px\"viewBox=\"0 0 24 24\"\n",
              "       width=\"24px\">\n",
              "    <path d=\"M0 0h24v24H0V0z\" fill=\"none\"/>\n",
              "    <path d=\"M18.56 5.44l.94 2.06.94-2.06 2.06-.94-2.06-.94-.94-2.06-.94 2.06-2.06.94zm-11 1L8.5 8.5l.94-2.06 2.06-.94-2.06-.94L8.5 2.5l-.94 2.06-2.06.94zm10 10l.94 2.06.94-2.06 2.06-.94-2.06-.94-.94-2.06-.94 2.06-2.06.94z\"/><path d=\"M17.41 7.96l-1.37-1.37c-.4-.4-.92-.59-1.43-.59-.52 0-1.04.2-1.43.59L10.3 9.45l-7.72 7.72c-.78.78-.78 2.05 0 2.83L4 21.41c.39.39.9.59 1.41.59.51 0 1.02-.2 1.41-.59l7.78-7.78 2.81-2.81c.8-.78.8-2.07 0-2.86zM5.41 20L4 18.59l7.72-7.72 1.47 1.35L5.41 20z\"/>\n",
              "  </svg>\n",
              "      </button>\n",
              "      \n",
              "  <style>\n",
              "    .colab-df-container {\n",
              "      display:flex;\n",
              "      flex-wrap:wrap;\n",
              "      gap: 12px;\n",
              "    }\n",
              "\n",
              "    .colab-df-convert {\n",
              "      background-color: #E8F0FE;\n",
              "      border: none;\n",
              "      border-radius: 50%;\n",
              "      cursor: pointer;\n",
              "      display: none;\n",
              "      fill: #1967D2;\n",
              "      height: 32px;\n",
              "      padding: 0 0 0 0;\n",
              "      width: 32px;\n",
              "    }\n",
              "\n",
              "    .colab-df-convert:hover {\n",
              "      background-color: #E2EBFA;\n",
              "      box-shadow: 0px 1px 2px rgba(60, 64, 67, 0.3), 0px 1px 3px 1px rgba(60, 64, 67, 0.15);\n",
              "      fill: #174EA6;\n",
              "    }\n",
              "\n",
              "    [theme=dark] .colab-df-convert {\n",
              "      background-color: #3B4455;\n",
              "      fill: #D2E3FC;\n",
              "    }\n",
              "\n",
              "    [theme=dark] .colab-df-convert:hover {\n",
              "      background-color: #434B5C;\n",
              "      box-shadow: 0px 1px 3px 1px rgba(0, 0, 0, 0.15);\n",
              "      filter: drop-shadow(0px 1px 2px rgba(0, 0, 0, 0.3));\n",
              "      fill: #FFFFFF;\n",
              "    }\n",
              "  </style>\n",
              "\n",
              "      <script>\n",
              "        const buttonEl =\n",
              "          document.querySelector('#df-e4441922-f48a-4d7c-b904-4eb2baff0c10 button.colab-df-convert');\n",
              "        buttonEl.style.display =\n",
              "          google.colab.kernel.accessAllowed ? 'block' : 'none';\n",
              "\n",
              "        async function convertToInteractive(key) {\n",
              "          const element = document.querySelector('#df-e4441922-f48a-4d7c-b904-4eb2baff0c10');\n",
              "          const dataTable =\n",
              "            await google.colab.kernel.invokeFunction('convertToInteractive',\n",
              "                                                     [key], {});\n",
              "          if (!dataTable) return;\n",
              "\n",
              "          const docLinkHtml = 'Like what you see? Visit the ' +\n",
              "            '<a target=\"_blank\" href=https://colab.research.google.com/notebooks/data_table.ipynb>data table notebook</a>'\n",
              "            + ' to learn more about interactive tables.';\n",
              "          element.innerHTML = '';\n",
              "          dataTable['output_type'] = 'display_data';\n",
              "          await google.colab.output.renderOutput(dataTable, element);\n",
              "          const docLink = document.createElement('div');\n",
              "          docLink.innerHTML = docLinkHtml;\n",
              "          element.appendChild(docLink);\n",
              "        }\n",
              "      </script>\n",
              "    </div>\n",
              "  </div>\n",
              "  "
            ]
          },
          "metadata": {},
          "execution_count": 42
        }
      ]
    }
  ]
}